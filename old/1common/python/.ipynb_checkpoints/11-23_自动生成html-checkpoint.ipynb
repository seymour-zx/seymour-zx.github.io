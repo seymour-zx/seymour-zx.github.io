{
 "cells": [
  {
   "cell_type": "code",
   "execution_count": 2,
   "metadata": {},
   "outputs": [
    {
     "name": "stdout",
     "output_type": "stream",
     "text": [
      "切换到运行区域： D:\\Workshop\\python\\zhengxie.info\\base\\about\n"
     ]
    },
    {
     "data": {
      "text/plain": [
       "True"
      ]
     },
     "execution_count": 2,
     "metadata": {},
     "output_type": "execute_result"
    }
   ],
   "source": [
    "import os\n",
    "import urllib.request\n",
    "import webbrowser\n",
    "\n",
    "# \"\"\"\n",
    "# 准备相关变量\n",
    "# \"\"\"\n",
    "\"\"\"\n",
    "切换到运行区域\n",
    "\"\"\"\n",
    "# area_run = input('切换到运行区域：')\n",
    "# os.chdir(area_run)\n",
    "area_run = 'D:\\\\Workshop\\\\python\\\\zhengxie.info\\\\base\\\\about'\n",
    "os.chdir(area_run)\n",
    "print('切换到运行区域：',os.getcwd())\n",
    "# \"\"\"\n",
    "# css的绝对地址\n",
    "# \"\"\"\n",
    "mystyle_css = 'D:\\\\Workshop\\\\python\\\\zhengxie.info\\\\common\\\\css\\\\mystyle.css'\n",
    "# \"\"\"\n",
    "# txt的绝对地址\n",
    "# \"\"\"\n",
    "head_abs = 'D:\\\\Workshop\\\\python\\\\zhengxie.info\\\\common\\\\txt\\\\head.txt'\n",
    "meta_abs = 'D:\\\\Workshop\\\\python\\\\zhengxie.info\\\\common\\\\txt\\\\meta.txt'\n",
    "base_abs = 'D:\\\\Workshop\\\\python\\\\zhengxie.info\\\\common\\\\txt\\\\base.txt'\n",
    "link_abs = 'D:\\\\Workshop\\\\python\\\\zhengxie.info\\\\common\\\\txt\\\\link.txt'\n",
    "title_abs = 'D:\\\\Workshop\\\\python\\\\zhengxie.info\\\\common\\\\txt\\\\title.txt'\n",
    "body_abs = 'D:\\\\Workshop\\\\python\\\\zhengxie.info\\\\common\\\\txt\\\\body.txt'\n",
    "entrance_abs = 'D:\\\\Workshop\\\\python\\\\zhengxie.info\\\\common\\\\txt\\\\entrance.txt'\n",
    "cellar_abs = 'D:\\\\Workshop\\\\python\\\\zhengxie.info\\\\common\\\\txt\\\\cellar.txt'\n",
    "html_abs = 'D:\\\\Workshop\\\\python\\\\zhengxie.info\\\\common\\\\txt\\\\html.txt'\n",
    "\"\"\"\n",
    "head_abs\n",
    "meta_abs\n",
    "base_abs\n",
    "link_abs\n",
    "title_abs\n",
    "body_abs\n",
    "entrance_abs\n",
    "cellar_abs\n",
    "html_abs\n",
    "\"\"\"\n",
    "head_abs = urllib.request.url2pathname(head_abs)\n",
    "meta_abs = urllib.request.url2pathname(meta_abs)\n",
    "base_abs = urllib.request.url2pathname(base_abs)\n",
    "link_abs = urllib.request.url2pathname(link_abs)\n",
    "title_abs = urllib.request.url2pathname(title_abs)\n",
    "body_abs = urllib.request.url2pathname(body_abs)\n",
    "entrance_abs = urllib.request.url2pathname(entrance_abs)\n",
    "cellar_abs = urllib.request.url2pathname(cellar_abs)\n",
    "html_abs = urllib.request.url2pathname(html_abs)\n",
    "\"\"\"\n",
    "绝对地址转换\n",
    "\"\"\"\n",
    "# \"\"\"\n",
    "# rel_path = os.path.relpath(abs_path,  start_path)\n",
    "# 地址优化\n",
    "# url = urllib.request.pathname2url(path)\n",
    "# pathname = urllib.request.url2pathname(path)\n",
    "# \"\"\"\n",
    "mystyle_css = urllib.request.pathname2url(os.path.relpath(mystyle_css))\n",
    "\n",
    "# \"\"\"\n",
    "# 编写head变量txt\n",
    "# \"\"\"\n",
    "\n",
    "\n",
    "# 创建的目录\n",
    "path = \"./index\"\n",
    "if not os.path.exists(path):\n",
    "    os.mkdir(path)\n",
    "\n",
    "\n",
    "txt = 'index/headvar.txt'\n",
    "\n",
    "message = \"\"\"\n",
    "    <link href=\"%s\" rel=\"stylesheet\" type=\"text/css\" />\n",
    "\"\"\"%(mystyle_css)\n",
    "\n",
    "fw = open(txt, 'w', encoding='utf-8')\n",
    "fw.write(message)\n",
    "fw.close()\n",
    "\n",
    "# \"\"\"\n",
    "# 编写index.html\n",
    "# \"\"\"\n",
    "html = 'index.html'\n",
    "tn = 6\n",
    "txt = []\n",
    "txt.append(head_abs1)\n",
    "txt.append('index/headvar.txt')\n",
    "txt.append(head_abs2)\n",
    "txt.append(body_abs1)\n",
    "txt.append(body_abs2)\n",
    "txt.append('index/title.txt')\n",
    "fw = open(html, 'w', encoding='utf-8')\n",
    "for i in range(tn):\n",
    "    if not os.path.exists(txt[i]):\n",
    "        with open(txt[i], 'w', encoding='utf-8') as fr:\n",
    "             fr.close()\n",
    "    with open(txt[i], 'r', encoding='utf-8') as fr:\n",
    "        fw.write('\\n')\n",
    "        for j in fr:\n",
    "            fw.write(j)\n",
    "        fr.close()\n",
    "fw.close()\n",
    "\n",
    "webbrowser.open(html,new = 1) \n",
    "\n",
    "# f1 = open(html, 'w', encoding='utf-8')\n",
    "# with open(s1, 'r', encoding='utf-8') as f2:\n",
    "#     f1.write('\\n')\n",
    "#     for i in f2:\n",
    "#         f1.write(i)\n",
    "#     f2.close() \n",
    "# f1.write(metacss)\n",
    "# with open(s2, 'r', encoding='utf-8') as f3:\n",
    "#     f1.write('\\n')\n",
    "#     for i in f3:\n",
    "#         f1.write(i)\n",
    "#     f3.close()\n",
    "# f1.close()"
   ]
  },
  {
   "cell_type": "code",
   "execution_count": 6,
   "metadata": {},
   "outputs": [
    {
     "name": "stdout",
     "output_type": "stream",
     "text": [
      "运行区域： D:\\Workshop\\python\\zhengxie.info\\base\n",
      "mystyle.css 绝对 path：\n",
      " D:\\Workshop\\python\\zhengxie.info\\common\\css\\mystyle.css\n"
     ]
    }
   ],
   "source": [
    "\n",
    "os.chdir('../')\n",
    "print('运行区域：',os.getcwd())\n",
    "\n",
    "\n",
    "abs_pathname_css_mystyle = 'D:\\Workshop\\python\\zhengxie.info\\common\\css\\mystyle.css'\n",
    "print('mystyle.css 绝对 path：\\n',abs_pathname_css_mystyle)"
   ]
  },
  {
   "cell_type": "code",
   "execution_count": 9,
   "metadata": {},
   "outputs": [
    {
     "name": "stdout",
     "output_type": "stream",
     "text": [
      "../../common/css/mystyle.css\n",
      "..\\..\\common\\css\\mystyle.css\n"
     ]
    }
   ],
   "source": [
    "\n",
    "abs_pathname_css_mystyle = 'D:\\Workshop\\python\\zhengxie.info\\common\\css\\mystyle.css'\n",
    "\n",
    "import urllib.request\n",
    "pathname = os.path.relpath(abs_pathname_css_mystyle)\n",
    "url = urllib.request.pathname2url(pathname)\n",
    "pathname = urllib.request.url2pathname(url)\n",
    "print(url)\n",
    "print(pathname)\n",
    "\n"
   ]
  },
  {
   "cell_type": "code",
   "execution_count": 59,
   "metadata": {},
   "outputs": [
    {
     "name": "stdout",
     "output_type": "stream",
     "text": [
      "common/css/mystyle.css\n",
      "common\\css\\mystyle.css\n"
     ]
    }
   ],
   "source": [
    "start = 'D:\\Workshop\\python\\zhengxie.info'\n",
    "path = 'D:\\Workshop\\python\\zhengxie.info\\common\\css\\mystyle.css'\n",
    "os.path.relpath(path, start)\n",
    "\n",
    "c"
   ]
  },
  {
   "cell_type": "code",
   "execution_count": 37,
   "metadata": {},
   "outputs": [
    {
     "name": "stdout",
     "output_type": "stream",
     "text": [
      "..\\..\\..\\..\\html\\seymour-zx.github.io\n"
     ]
    }
   ],
   "source": [
    "# importing os module  \n",
    "import os \n",
    "  \n",
    "# Path \n",
    "path = \"D:\\Workshop\\html\\seymour-zx.github.io\"\n",
    "  \n",
    "# Path of Start directory \n",
    "start = \"head.html\"\n",
    "  \n",
    "# Compute the relative file path \n",
    "# to the given path from the  \n",
    "# the given start directory. \n",
    "relative_path = os.path.relpath(path, start) \n",
    "  \n",
    "# Print the relative file path \n",
    "# to the given path from the  \n",
    "# the given start directory. \n",
    "print(relative_path) "
   ]
  },
  {
   "cell_type": "code",
   "execution_count": 38,
   "metadata": {},
   "outputs": [
    {
     "name": "stdout",
     "output_type": "stream",
     "text": [
      "../../../../html/seymour-zx.github.io\n",
      "..\\..\\..\\..\\html\\seymour-zx.github.io\n"
     ]
    }
   ],
   "source": [
    "import urllib.request\n",
    "pathname = '../../../../html/seymour-zx.github.io'\n",
    "url = urllib.request.pathname2url(pathname)\n",
    "pathname = urllib.request.url2pathname(url)\n",
    "print(url)\n",
    "print(pathname)"
   ]
  },
  {
   "cell_type": "code",
   "execution_count": null,
   "metadata": {},
   "outputs": [],
   "source": []
  }
 ],
 "metadata": {
  "kernelspec": {
   "name": "python3",
   "display_name": "Python 3.6.5 32-bit (conda)",
   "metadata": {
    "interpreter": {
     "hash": "b3ba2566441a7c06988d0923437866b63cedc61552a5af99d1f4fb67d367b25f"
    }
   }
  },
  "language_info": {
   "codemirror_mode": {
    "name": "ipython",
    "version": 3
   },
   "file_extension": ".py",
   "mimetype": "text/x-python",
   "name": "python",
   "nbconvert_exporter": "python",
   "pygments_lexer": "ipython3",
   "version": "3.6.5-final"
  }
 },
 "nbformat": 4,
 "nbformat_minor": 2
}